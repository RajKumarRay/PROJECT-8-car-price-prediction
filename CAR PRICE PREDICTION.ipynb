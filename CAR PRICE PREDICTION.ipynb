{
 "cells": [
  {
   "cell_type": "code",
   "execution_count": 114,
   "id": "e9c4dfdc",
   "metadata": {},
   "outputs": [
    {
     "name": "stdout",
     "output_type": "stream",
     "text": [
      "<class 'pandas.core.frame.DataFrame'>\n",
      "RangeIndex: 301 entries, 0 to 300\n",
      "Data columns (total 8 columns):\n",
      " #   Column         Non-Null Count  Dtype  \n",
      "---  ------         --------------  -----  \n",
      " 0   Year           301 non-null    int64  \n",
      " 1   Selling_Price  301 non-null    float64\n",
      " 2   Present_Price  301 non-null    float64\n",
      " 3   Kms_Driven     301 non-null    int64  \n",
      " 4   Fuel_Type      301 non-null    object \n",
      " 5   Seller_Type    301 non-null    object \n",
      " 6   Transmission   301 non-null    object \n",
      " 7   Owner          301 non-null    int64  \n",
      "dtypes: float64(2), int64(3), object(3)\n",
      "memory usage: 18.9+ KB\n",
      "None\n"
     ]
    }
   ],
   "source": [
    "import numpy as np\n",
    "import pandas as pd\n",
    "import matplotlib.pyplot as plt\n",
    "\n",
    "from sklearn.model_selection import train_test_split\n",
    "import seaborn as sns\n",
    "\n",
    "\n",
    "dataset=pd.read_csv('car data.csv')\n",
    "# dataset.head()\n",
    "# print(dataset)\n",
    "# dataset.describe()\n",
    "# dataset.isnull().sum()\n",
    "\n",
    "dataset=dataset.drop(['Car_Name'],axis=1)\n",
    "print(dataset.info())\n"
   ]
  },
  {
   "cell_type": "code",
   "execution_count": 115,
   "id": "deda9c27",
   "metadata": {},
   "outputs": [
    {
     "name": "stdout",
     "output_type": "stream",
     "text": [
      "Petrol    239\n",
      "Diesel     60\n",
      "CNG         2\n",
      "Name: Fuel_Type, dtype: int64\n",
      "Dealer        195\n",
      "Individual    106\n",
      "Name: Seller_Type, dtype: int64\n",
      "Manual       261\n",
      "Automatic     40\n",
      "Name: Transmission, dtype: int64\n",
      "<class 'pandas.core.frame.DataFrame'>\n",
      "RangeIndex: 301 entries, 0 to 300\n",
      "Data columns (total 8 columns):\n",
      " #   Column         Non-Null Count  Dtype  \n",
      "---  ------         --------------  -----  \n",
      " 0   Year           301 non-null    int64  \n",
      " 1   Selling_Price  301 non-null    float64\n",
      " 2   Present_Price  301 non-null    float64\n",
      " 3   Kms_Driven     301 non-null    int64  \n",
      " 4   Fuel_Type      301 non-null    int64  \n",
      " 5   Seller_Type    301 non-null    int64  \n",
      " 6   Transmission   301 non-null    int64  \n",
      " 7   Owner          301 non-null    int64  \n",
      "dtypes: float64(2), int64(6)\n",
      "memory usage: 18.9 KB\n",
      "None\n"
     ]
    }
   ],
   "source": [
    "#for checking the categoricaal districbution \n",
    "print(dataset.Fuel_Type.value_counts())\n",
    "print(dataset.Seller_Type.value_counts())\n",
    "print(dataset.Transmission.value_counts())\n",
    "dataset.replace({'Fuel_Type':{'Petrol':0,'Diesel':1,'CNG':2}},inplace=True)\n",
    "dataset.replace({'Seller_Type':{'Dealer':0,'Individual':1}},inplace=True)\n",
    "dataset.replace({'Transmission':{'Manual':0,'Automatic':1}},inplace=True)\n",
    "print(dataset.info())"
   ]
  },
  {
   "cell_type": "code",
   "execution_count": 116,
   "id": "e6ccb4b2",
   "metadata": {},
   "outputs": [
    {
     "name": "stdout",
     "output_type": "stream",
     "text": [
      "     Year  Selling_Price  Present_Price  Kms_Driven  Fuel_Type  Seller_Type  \\\n",
      "0    2014           3.35           5.59       27000          0            0   \n",
      "1    2013           4.75           9.54       43000          1            0   \n",
      "2    2017           7.25           9.85        6900          0            0   \n",
      "3    2011           2.85           4.15        5200          0            0   \n",
      "4    2014           4.60           6.87       42450          1            0   \n",
      "..    ...            ...            ...         ...        ...          ...   \n",
      "296  2016           9.50          11.60       33988          1            0   \n",
      "297  2015           4.00           5.90       60000          0            0   \n",
      "298  2009           3.35          11.00       87934          0            0   \n",
      "299  2017          11.50          12.50        9000          1            0   \n",
      "300  2016           5.30           5.90        5464          0            0   \n",
      "\n",
      "     Transmission  Owner  \n",
      "0               0      0  \n",
      "1               0      0  \n",
      "2               0      0  \n",
      "3               0      0  \n",
      "4               0      0  \n",
      "..            ...    ...  \n",
      "296             0      0  \n",
      "297             0      0  \n",
      "298             0      0  \n",
      "299             0      0  \n",
      "300             0      0  \n",
      "\n",
      "[301 rows x 8 columns]\n"
     ]
    }
   ],
   "source": [
    "# feature Scaling  \n",
    "# from sklearn.preprocessing import StandardScaler    \n",
    "# st_x= StandardScaler()   \n",
    "# print(dataset.iloc[:,3:4])\n",
    "# dataset.iloc[:,3:4]=st_x.fit_transform(dataset.iloc[:,3:4])\n",
    "# even after doing feature scaling there is no chaane in the score \n",
    "print(dataset) "
   ]
  },
  {
   "cell_type": "code",
   "execution_count": 117,
   "id": "d9a01b9d",
   "metadata": {},
   "outputs": [
    {
     "name": "stdout",
     "output_type": "stream",
     "text": [
      "     Year  Present_Price  Kms_Driven  Fuel_Type  Seller_Type  Transmission  \\\n",
      "0    2014           5.59       27000          0            0             0   \n",
      "1    2013           9.54       43000          1            0             0   \n",
      "2    2017           9.85        6900          0            0             0   \n",
      "3    2011           4.15        5200          0            0             0   \n",
      "4    2014           6.87       42450          1            0             0   \n",
      "..    ...            ...         ...        ...          ...           ...   \n",
      "296  2016          11.60       33988          1            0             0   \n",
      "297  2015           5.90       60000          0            0             0   \n",
      "298  2009          11.00       87934          0            0             0   \n",
      "299  2017          12.50        9000          1            0             0   \n",
      "300  2016           5.90        5464          0            0             0   \n",
      "\n",
      "     Owner  \n",
      "0        0  \n",
      "1        0  \n",
      "2        0  \n",
      "3        0  \n",
      "4        0  \n",
      "..     ...  \n",
      "296      0  \n",
      "297      0  \n",
      "298      0  \n",
      "299      0  \n",
      "300      0  \n",
      "\n",
      "[301 rows x 7 columns]\n",
      "     Selling_Price\n",
      "0             3.35\n",
      "1             4.75\n",
      "2             7.25\n",
      "3             2.85\n",
      "4             4.60\n",
      "..             ...\n",
      "296           9.50\n",
      "297           4.00\n",
      "298           3.35\n",
      "299          11.50\n",
      "300           5.30\n",
      "\n",
      "[301 rows x 1 columns]\n"
     ]
    }
   ],
   "source": [
    "x=dataset.drop(['Selling_Price'],axis=1)\n",
    "print(x)\n",
    "y=dataset.iloc[:,1:2]\n",
    "print(y)"
   ]
  },
  {
   "cell_type": "code",
   "execution_count": 118,
   "id": "e9877ddf",
   "metadata": {},
   "outputs": [],
   "source": [
    "# creating train and test data\n",
    "x_train,x_test,y_train,y_test=train_test_split(x,y,test_size=0.20,random_state=0)"
   ]
  },
  {
   "cell_type": "code",
   "execution_count": 119,
   "id": "359e28b7",
   "metadata": {},
   "outputs": [
    {
     "name": "stdout",
     "output_type": "stream",
     "text": [
      "R squared Error :  0.8684260777667914\n"
     ]
    }
   ],
   "source": [
    "from sklearn.linear_model import LinearRegression\n",
    "Regressor=LinearRegression()\n",
    "Regressor.fit(x_train,y_train)\n",
    "y_pred=Regressor.predict(x_train)\n",
    "\n",
    "#here we can do accuracy score and confusion matrix as it is continuous values and we can use accuracy_score for classification only \n",
    "\n",
    "# cm=confusion_matrix(y_train,y_pred)\n",
    "# print(cm)\n",
    "# praccuracy_score(y_train,y_pred)\n",
    "\n",
    "from sklearn import metrics\n",
    "# R squared Error\n",
    "\n",
    "# this we have checked the training data \n",
    "\n",
    "error_score = metrics.r2_score(y_train, y_pred)\n",
    "print(\"R squared Error : \", error_score)"
   ]
  },
  {
   "cell_type": "code",
   "execution_count": 120,
   "id": "5712f972",
   "metadata": {},
   "outputs": [
    {
     "name": "stdout",
     "output_type": "stream",
     "text": [
      "R squared error for test data  0.9134181721224167\n"
     ]
    }
   ],
   "source": [
    "#  now check the test data \n",
    "y_test_pred=Regressor.predict(x_test)\n",
    "error_score1=metrics.r2_score(y_test,y_test_pred)\n",
    "print(\"R squared error for test data \", error_score1)"
   ]
  },
  {
   "cell_type": "code",
   "execution_count": 121,
   "id": "47a79e70",
   "metadata": {},
   "outputs": [
    {
     "name": "stdout",
     "output_type": "stream",
     "text": [
      "R squared Error :  0.8319047053252053\n",
      "R squared error :  0.8679568094168661\n"
     ]
    }
   ],
   "source": [
    "#  now we are using lasso regresssion \n",
    "from sklearn.linear_model import Lasso\n",
    "lass_reg_model = Lasso()\n",
    "# x_train=np.arange(0,len(x_train),1)\n",
    "lass_reg_model.fit(x_train,y_train)\n",
    "# prediction on Training data\n",
    "training_data_prediction = lass_reg_model.predict(x_train)\n",
    "# R squared Error\n",
    "error_score = metrics.r2_score(y_train, training_data_prediction)\n",
    "print(\"R squared Error : \", error_score)\n",
    "\n",
    "\n",
    "\n",
    "# prediction on testing data \n",
    "y_pred=lass_reg_model.predict(x_test)\n",
    "error_score1=metrics.r2_score(y_test,y_pred)\n",
    "print(\"R squared error : \", error_score1)"
   ]
  },
  {
   "cell_type": "code",
   "execution_count": 126,
   "id": "cf4e4b1e",
   "metadata": {
    "scrolled": true
   },
   "outputs": [
    {
     "data": {
      "image/png": "[encoded data removed]",
      "text/plain": [
       "<Figure size 432x288 with 1 Axes>"
      ]
     },
     "metadata": {
      "needs_background": "light"
     },
     "output_type": "display_data"
    }
   ],
   "source": [
    "# plt.scatter(x_train,y_train)\n",
    "plt.scatter(y_train,lass_reg_model.predict(x_train),color='red')\n",
    "plt.xlabel(\"Actual Price\")\n",
    "plt.ylabel(\"Predicted Price\")\n",
    "plt.title(\" Actual Prices vs Predicted Prices\")\n",
    "plt.show()"
   ]
  },
  {
   "cell_type": "code",
   "execution_count": null,
   "id": "67ce3854",
   "metadata": {},
   "outputs": [],
   "source": [
    "# BY COMPARING LINEAR AND LASSOR MODEL. LINEAR MODEL GIVES THE HIGHEST ACCURACY SCORE OF 91.34% SO . FOR CAR PRICE\n",
    "# PREDICTION LINEAR MODEL WILL BE USED. "
   ]
  }
 ],
 "metadata": {
  "kernelspec": {
   "display_name": "Python 3",
   "language": "python",
   "name": "python3"
  },
  "language_info": {
   "codemirror_mode": {
    "name": "ipython",
    "version": 3
   },
   "file_extension": ".py",
   "mimetype": "text/x-python",
   "name": "python",
   "nbconvert_exporter": "python",
   "pygments_lexer": "ipython3",
   "version": "3.8.8"
  }
 },
 "nbformat": 4,
 "nbformat_minor": 5
}
